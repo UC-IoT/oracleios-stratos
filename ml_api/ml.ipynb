{
 "cells": [
  {
   "cell_type": "code",
   "execution_count": 1,
   "metadata": {},
   "outputs": [
    {
     "name": "stdout",
     "output_type": "stream",
     "text": [
      "-0.0002615320886328147\n",
      "[ 4.24739798e-02  7.98880916e-03 -6.96849995e-02  3.39116241e-02\n",
      "  3.26085500e-01  9.19731818e-01  4.11354464e-02  8.62534576e-03\n",
      " -2.16058691e-03 -1.81497508e-02  3.11465674e-03  2.58132266e-02\n",
      "  8.96885310e-04 -6.61226688e-03 -5.88259484e-02 -3.93096154e-03\n",
      "  1.51068072e-03  5.11247877e-02 -3.93096154e-03  5.11247877e-02\n",
      "  1.45718031e-03 -1.53878893e-02  1.66533454e-16 -3.02223384e-04\n",
      " -2.78251986e-03  3.27703649e-04 -1.63005298e-02  8.52044454e-03\n",
      " -5.17768742e-03  1.65983334e-03  5.27847699e-03  1.95444364e-02\n",
      " -2.50028709e-03  1.06207601e-02 -2.73581237e-03 -1.61841099e-02\n",
      " -3.29140699e-03 -4.64605369e-04 -4.06760039e-03]\n",
      "0.9992401245057793\n"
     ]
    }
   ],
   "source": [
    "from data_preprocess import *\n",
    "from sklearn.linear_model import LinearRegression\n",
    "\n",
    "df = pd.read_csv(\"../requirements/btc.csv\")\n",
    "X_train, X_test, y_train, y_test = data_preprocess(df)\n",
    "lr = LinearRegression()\n",
    "lr.fit(X_train, y_train)\n",
    "print(lr.intercept_)\n",
    "print(lr.coef_)\n",
    "print(lr.score(X_test, y_test))"
   ]
  },
  {
   "cell_type": "code",
   "execution_count": null,
   "metadata": {},
   "outputs": [],
   "source": []
  }
 ],
 "metadata": {
  "kernelspec": {
   "display_name": "Python 3",
   "language": "python",
   "name": "python3"
  },
  "language_info": {
   "codemirror_mode": {
    "name": "ipython",
    "version": 3
   },
   "file_extension": ".py",
   "mimetype": "text/x-python",
   "name": "python",
   "nbconvert_exporter": "python",
   "pygments_lexer": "ipython3",
   "version": "3.11.5"
  }
 },
 "nbformat": 4,
 "nbformat_minor": 2
}
